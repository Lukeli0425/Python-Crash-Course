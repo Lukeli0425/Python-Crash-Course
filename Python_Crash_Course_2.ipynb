{
 "cells": [
  {
   "cell_type": "markdown",
   "metadata": {
    "slideshow": {
     "slide_type": "-"
    }
   },
   "source": [
    "## 2021.4.20 luke\n",
    "# Python Crash Course 2 变量和简单数据类型\n",
    "### https://www.bilibili.com/video/BV19t411m7uU"
   ]
  },
  {
   "cell_type": "markdown",
   "metadata": {},
   "source": [
    "## 2.1变量"
   ]
  },
  {
   "cell_type": "code",
   "execution_count": 1,
   "metadata": {},
   "outputs": [
    {
     "name": "stdout",
     "output_type": "stream",
     "text": [
      "hello world!\n"
     ]
    }
   ],
   "source": [
    "#变量名：字母、数字（不在开头）、下划线，不能与python关键字相同\n",
    "message = \"hello world!\"\n",
    "print(message)\n",
    "#变量是标签/盒子（把值放在盒子里，可以更新）"
   ]
  },
  {
   "cell_type": "markdown",
   "metadata": {},
   "source": [
    "## 2.2 字符串 string"
   ]
  },
  {
   "cell_type": "code",
   "execution_count": 2,
   "metadata": {},
   "outputs": [
    {
     "name": "stdout",
     "output_type": "stream",
     "text": [
      "luke\n"
     ]
    }
   ],
   "source": [
    "#单引号/双引号扩起来都是字符串（字符串内部包含‘或者“时便于区分）\n",
    "name='luke'\n",
    "print(name)"
   ]
  },
  {
   "cell_type": "code",
   "execution_count": 3,
   "metadata": {},
   "outputs": [
    {
     "name": "stdout",
     "output_type": "stream",
     "text": [
      "Luke\n",
      "HELLO WORLD!\n",
      "thu\n"
     ]
    }
   ],
   "source": [
    "#修改字符串的方法 \n",
    "thu='THU'\n",
    "print(name.title()) #首字母大写\n",
    "print(message.upper()) #全大写\n",
    "print(thu.lower()) #全小写\n"
   ]
  },
  {
   "cell_type": "code",
   "execution_count": 4,
   "metadata": {},
   "outputs": [
    {
     "name": "stdout",
     "output_type": "stream",
     "text": [
      "Stephen curry\n"
     ]
    }
   ],
   "source": [
    "#在字符串中使用变量\n",
    "first_name='Stephen'\n",
    "last_name=\"curry\"\n",
    "full_name = f\"{first_name} {last_name}\" #f字符串（3.6引入）插入的字符串用大括号扩起来，中间加空格\n",
    "print(full_name)"
   ]
  },
  {
   "cell_type": "code",
   "execution_count": 5,
   "metadata": {},
   "outputs": [
    {
     "name": "stdout",
     "output_type": "stream",
     "text": [
      "\tpython\n",
      "\n",
      "python\tis\tfun\n"
     ]
    }
   ],
   "source": [
    "#使用制表符&换行符添加空白\n",
    "# \\t空格 \\n换行\n",
    "print(\"\\tpython\")\n",
    "print(\"\\npython\\tis\\tfun\")"
   ]
  },
  {
   "cell_type": "code",
   "execution_count": 6,
   "metadata": {},
   "outputs": [
    {
     "name": "stdout",
     "output_type": "stream",
     "text": [
      " python 123\n",
      "python  123\n",
      "python 123\n"
     ]
    }
   ],
   "source": [
    "#删除空白\n",
    "str=\" python \"\n",
    "print(str.rstrip(),\"123\") #去除最右侧空格\n",
    "print(str.lstrip(),\"123\") #去除最左侧空格\n",
    "print(str.strip(),\"123\") #去除左、右侧空格"
   ]
  },
  {
   "cell_type": "code",
   "execution_count": 7,
   "metadata": {},
   "outputs": [
    {
     "name": "stdout",
     "output_type": "stream",
     "text": [
      "\n",
      "One of python's strengths is its diverse community.\n",
      "\n",
      "His name was \"Stephen\".\n"
     ]
    }
   ],
   "source": [
    "#避免语法错误\n",
    "str2=\"\\nOne of python's strengths is its diverse community.\"#字符串内部有单引号时使用双引号扩起\n",
    "print(str2)\n",
    "str3='\\nHis name was \"Stephen\".'#字符串内部有双引号时使用单引号扩起\n",
    "print(str3)\n"
   ]
  },
  {
   "cell_type": "markdown",
   "metadata": {},
   "source": [
    "## 2.3数 "
   ]
  },
  {
   "cell_type": "code",
   "execution_count": 8,
   "metadata": {},
   "outputs": [
    {
     "name": "stdout",
     "output_type": "stream",
     "text": [
      "5\n",
      "1\n",
      "100\n"
     ]
    },
    {
     "data": {
      "text/plain": [
       "2.0"
      ]
     },
     "execution_count": 8,
     "metadata": {},
     "output_type": "execute_result"
    }
   ],
   "source": [
    "#加减乘除\n",
    "print(2+3)\n",
    "print(9-8)\n",
    "print(4*25)\n",
    "4/2"
   ]
  },
  {
   "cell_type": "code",
   "execution_count": 9,
   "metadata": {},
   "outputs": [
    {
     "name": "stdout",
     "output_type": "stream",
     "text": [
      "4\n"
     ]
    }
   ],
   "source": [
    "#乘方\n",
    "print(2*2)"
   ]
  },
  {
   "cell_type": "code",
   "execution_count": 10,
   "metadata": {},
   "outputs": [
    {
     "name": "stdout",
     "output_type": "stream",
     "text": [
      "14\n"
     ]
    },
    {
     "data": {
      "text/plain": [
       "20"
      ]
     },
     "execution_count": 10,
     "metadata": {},
     "output_type": "execute_result"
    }
   ],
   "source": [
    "#同一表达式中多种运算\n",
    "print(2+3*4)\n",
    "(2+3)*4 #括号的使用"
   ]
  },
  {
   "cell_type": "code",
   "execution_count": 11,
   "metadata": {},
   "outputs": [
    {
     "name": "stdout",
     "output_type": "stream",
     "text": [
      "3.0\n",
      "12.0\n",
      "1.0\n"
     ]
    }
   ],
   "source": [
    "#整数和浮点数\n",
    "4/2 #除法自动得到浮点数\n",
    "\n",
    "print(1+2.0) #无论是哪种运算，只要有操作数时浮点数，python默认得到浮点数\n",
    "print(3*4.0)\n",
    "print(1+0.0)"
   ]
  },
  {
   "cell_type": "code",
   "execution_count": 12,
   "metadata": {},
   "outputs": [
    {
     "name": "stdout",
     "output_type": "stream",
     "text": [
      "14000000000\n"
     ]
    }
   ],
   "source": [
    "#数中的下划线（只适用于整数和浮点数，python3.6+版本）\n",
    "universe_age=14_000_000_000\n",
    "print(universe_age)"
   ]
  },
  {
   "cell_type": "code",
   "execution_count": 13,
   "metadata": {},
   "outputs": [
    {
     "name": "stdout",
     "output_type": "stream",
     "text": [
      "1 2 3\n"
     ]
    }
   ],
   "source": [
    "#同时给多个变量赋值\n",
    "x,y,z=1,2,3\n",
    "print(x,y,z)"
   ]
  },
  {
   "cell_type": "code",
   "execution_count": 14,
   "metadata": {},
   "outputs": [
    {
     "name": "stdout",
     "output_type": "stream",
     "text": [
      "5000\n"
     ]
    }
   ],
   "source": [
    "#常量\n",
    "#将全部字母大写作为常量，常量在整个程序生命周期内保持不变\n",
    "MAX_CONNECTIONS=20000;\n",
    "MAX_CONNECTIONS=5000; #也可以修改\n",
    "print(MAX_CONNECTIONS)"
   ]
  },
  {
   "cell_type": "markdown",
   "metadata": {},
   "source": [
    "## 2.4注释"
   ]
  },
  {
   "cell_type": "code",
   "execution_count": 15,
   "metadata": {},
   "outputs": [
    {
     "name": "stdout",
     "output_type": "stream",
     "text": [
      "Good Morning!\n"
     ]
    }
   ],
   "source": [
    "#问好\n",
    "print(\"Good Morning!\")\n",
    "\n",
    "# “#”后的内容会忽略"
   ]
  },
  {
   "cell_type": "markdown",
   "metadata": {},
   "source": [
    "## 2.5 Python之禅"
   ]
  },
  {
   "cell_type": "code",
   "execution_count": 16,
   "metadata": {},
   "outputs": [
    {
     "name": "stdout",
     "output_type": "stream",
     "text": [
      "The Zen of Python, by Tim Peters\n",
      "\n",
      "Beautiful is better than ugly.\n",
      "Explicit is better than implicit.\n",
      "Simple is better than complex.\n",
      "Complex is better than complicated.\n",
      "Flat is better than nested.\n",
      "Sparse is better than dense.\n",
      "Readability counts.\n",
      "Special cases aren't special enough to break the rules.\n",
      "Although practicality beats purity.\n",
      "Errors should never pass silently.\n",
      "Unless explicitly silenced.\n",
      "In the face of ambiguity, refuse the temptation to guess.\n",
      "There should be one-- and preferably only one --obvious way to do it.\n",
      "Although that way may not be obvious at first unless you're Dutch.\n",
      "Now is better than never.\n",
      "Although never is often better than *right* now.\n",
      "If the implementation is hard to explain, it's a bad idea.\n",
      "If the implementation is easy to explain, it may be a good idea.\n",
      "Namespaces are one honking great idea -- let's do more of those!\n"
     ]
    }
   ],
   "source": [
    "import this"
   ]
  }
 ],
 "metadata": {
  "celltoolbar": "Raw Cell Format",
  "kernelspec": {
   "display_name": "Python 3",
   "language": "python",
   "name": "python3"
  },
  "language_info": {
   "codemirror_mode": {
    "name": "ipython",
    "version": 3
   },
   "file_extension": ".py",
   "mimetype": "text/x-python",
   "name": "python",
   "nbconvert_exporter": "python",
   "pygments_lexer": "ipython3",
   "version": "3.8.5"
  }
 },
 "nbformat": 4,
 "nbformat_minor": 4
}
