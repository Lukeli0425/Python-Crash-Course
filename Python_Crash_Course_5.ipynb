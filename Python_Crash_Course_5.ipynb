{
 "cells": [
  {
   "cell_type": "markdown",
   "metadata": {},
   "source": [
    "## 2021.5.2 luke\n",
    "# Python Crash Course 5 if语句\n",
    "### https://www.bilibili.com/video/BV19t411m7uU"
   ]
  },
  {
   "cell_type": "markdown",
   "metadata": {},
   "source": [
    "## 5.1 一个简单示例"
   ]
  },
  {
   "cell_type": "code",
   "execution_count": 2,
   "metadata": {},
   "outputs": [
    {
     "name": "stdout",
     "output_type": "stream",
     "text": [
      "Audi\n",
      "BMW\n",
      "Volvo\n",
      "Toyota\n"
     ]
    }
   ],
   "source": [
    "cars=['audi','bmw','volvo','toyota']\n",
    "for car in cars:\n",
    "    if car=='bmw': #'bmw'全大写\n",
    "        print(car.upper())\n",
    "    else: #其余只需要首字母大写\n",
    "        print(car.title())"
   ]
  },
  {
   "cell_type": "markdown",
   "metadata": {},
   "source": [
    "## 5.2 条件测试"
   ]
  },
  {
   "cell_type": "code",
   "execution_count": 12,
   "metadata": {},
   "outputs": [
    {
     "name": "stdout",
     "output_type": "stream",
     "text": [
      "True\n"
     ]
    }
   ],
   "source": [
    "# 检查是否相等\n",
    "car='bmw'\n",
    "print(car=='bmw')\n",
    "car='audi'\n",
    "print(car=='bmw')"
   ]
  },
  {
   "cell_type": "code",
   "execution_count": 13,
   "metadata": {},
   "outputs": [
    {
     "name": "stdout",
     "output_type": "stream",
     "text": [
      "False\n",
      "Audi\n"
     ]
    }
   ],
   "source": [
    "# 检查是否相等时忽略大小写\n",
    "car='Audi'\n",
    "print(car=='audi') #python中区分大小写\n",
    "\n",
    "car.lower()=='audi' # 这里使用lower并没有实际改变car的值\n",
    "print(car)"
   ]
  },
  {
   "cell_type": "code",
   "execution_count": 14,
   "metadata": {},
   "outputs": [
    {
     "name": "stdout",
     "output_type": "stream",
     "text": [
      "Hold the anchovies!\n"
     ]
    }
   ],
   "source": [
    "# 检查是否不相等\n",
    "requested_toppings='mushrooms'\n",
    "if requested_toppings != 'anchovies':\n",
    "    print('Hold the anchovies!')"
   ]
  },
  {
   "cell_type": "code",
   "execution_count": 18,
   "metadata": {},
   "outputs": [
    {
     "name": "stdout",
     "output_type": "stream",
     "text": [
      "True\n",
      "That is not the correct answer.please try again!\n",
      "True\n",
      "True\n"
     ]
    }
   ],
   "source": [
    "# 数值比较\n",
    "age=18\n",
    "print(age == 18)\n",
    "\n",
    "answer=17\n",
    "if answer!=42:\n",
    "    print(\"That is not the correct answer.please try again!\")\n",
    "    \n",
    "print(age<21)\n",
    "print(age>=18)"
   ]
  },
  {
   "cell_type": "code",
   "execution_count": 23,
   "metadata": {},
   "outputs": [
    {
     "name": "stdout",
     "output_type": "stream",
     "text": [
      "False\n"
     ]
    },
    {
     "data": {
      "text/plain": [
       "True"
      ]
     },
     "execution_count": 23,
     "metadata": {},
     "output_type": "execute_result"
    }
   ],
   "source": [
    "# 检查多个变量\n",
    "#使用and检查多个条件(与，所有条件都通过才为True)\n",
    "age_0=22\n",
    "age_1=18\n",
    "print(age_0>=21 and age_1>=21)\n",
    "age_1=21\n",
    "(age_0>=21) and (age_1>=21) #建议带上括号，更清晰"
   ]
  },
  {
   "cell_type": "code",
   "execution_count": 22,
   "metadata": {},
   "outputs": [
    {
     "name": "stdout",
     "output_type": "stream",
     "text": [
      "True\n",
      "False\n"
     ]
    }
   ],
   "source": [
    "#使用or检查多个条件（或，只要有一个条件通过就为True）\n",
    "age_0=22\n",
    "age_1=18\n",
    "print(age_0>=21 or age_1>=21)\n",
    "age_0=18\n",
    "print(age_0>=21 or age_1>=21)"
   ]
  },
  {
   "cell_type": "code",
   "execution_count": 26,
   "metadata": {},
   "outputs": [
    {
     "name": "stdout",
     "output_type": "stream",
     "text": [
      "True\n",
      "False\n"
     ]
    }
   ],
   "source": [
    "# 检查特定值是否在列表中\n",
    "requested_toppings=['mushrooms','onions','pineapple']\n",
    "print('mushrooms' in requested_toppings)\n",
    "print('pepperoni' in requested_toppings)"
   ]
  },
  {
   "cell_type": "code",
   "execution_count": 29,
   "metadata": {},
   "outputs": [
    {
     "name": "stdout",
     "output_type": "stream",
     "text": [
      "Marie,you can post a response if you wish.\n"
     ]
    }
   ],
   "source": [
    "# 检查特定值是否不包含在列表中\n",
    "banned_users=['andrew','carolina','david']\n",
    "user='marie'\n",
    "if user not in banned_users:\n",
    "    print(f\"{user.title()},you can post a response if you wish.\")"
   ]
  },
  {
   "cell_type": "code",
   "execution_count": 30,
   "metadata": {},
   "outputs": [],
   "source": [
    "# 布尔表达式\n",
    "game_active=True\n",
    "can_edit=False"
   ]
  },
  {
   "cell_type": "markdown",
   "metadata": {},
   "source": [
    "## 5.3 if语句"
   ]
  },
  {
   "cell_type": "code",
   "execution_count": 33,
   "metadata": {},
   "outputs": [
    {
     "name": "stdout",
     "output_type": "stream",
     "text": [
      "You are old enough to vote.\n",
      "Have you registered to vote yet?\n"
     ]
    }
   ],
   "source": [
    "#简单的if语句\n",
    "#结构：\n",
    "# if conditional_test:\n",
    "#     do something\n",
    "\n",
    "age=18\n",
    "if age>=18:\n",
    "    print(\"You are old enough to vote.\")\n",
    "    print(\"Have you registered to vote yet?\")"
   ]
  },
  {
   "cell_type": "code",
   "execution_count": 37,
   "metadata": {},
   "outputs": [
    {
     "name": "stdout",
     "output_type": "stream",
     "text": [
      "Sorry,you are too young too vote.\n",
      "Please register to vote as soon as you turn 18!\n"
     ]
    }
   ],
   "source": [
    "# if_else 语句\n",
    "#结构：\n",
    "# if conditional_test == True:\n",
    "#     do something\n",
    "# else:\n",
    "#     do somthingelse\n",
    "age=17   \n",
    "if age>=18:\n",
    "    print(\"You are old enough to vote.\")\n",
    "    print(\"Have you registered to vote yet?\")\n",
    "else:\n",
    "    print(\"Sorry,you are too young too vote.\")\n",
    "    print(\"Please register to vote as soon as you turn 18!\")"
   ]
  },
  {
   "cell_type": "code",
   "execution_count": 41,
   "metadata": {
    "scrolled": true
   },
   "outputs": [
    {
     "name": "stdout",
     "output_type": "stream",
     "text": [
      "Your admission cost is $25.\n"
     ]
    }
   ],
   "source": [
    "# if_elif_else结构\n",
    "# if conditional_test_1 == True:\n",
    "#     do something\n",
    "# elif conditional_test_2:\n",
    "#     do something\n",
    "# else:\n",
    "#     do somthing\n",
    "\n",
    "age=12\n",
    "if(age<4):\n",
    "    print(\"Your admission cost is $0.\")\n",
    "elif(age<18): #不能写成else if！\n",
    "    print(\"Your admission cost is $25.\")\n",
    "else:\n",
    "    print(\"Your admission cost is $40.\")"
   ]
  },
  {
   "cell_type": "code",
   "execution_count": 42,
   "metadata": {},
   "outputs": [
    {
     "name": "stdout",
     "output_type": "stream",
     "text": [
      "Your admission cost is $25.\n"
     ]
    }
   ],
   "source": [
    "#简化一下：\n",
    "if(age<4):\n",
    "    price=0\n",
    "elif(age<18): \n",
    "    price=25\n",
    "else:\n",
    "    price=40\n",
    "print(f\"Your admission cost is ${price}.\")"
   ]
  },
  {
   "cell_type": "code",
   "execution_count": 49,
   "metadata": {},
   "outputs": [
    {
     "name": "stdout",
     "output_type": "stream",
     "text": [
      "Your admission cost is $40.\n"
     ]
    }
   ],
   "source": [
    "# 使用多个elif代码块：\n",
    "age=66\n",
    "if age<4:\n",
    "    price=0\n",
    "elif age<18: \n",
    "    price=25\n",
    "elif age<65:\n",
    "    price=40\n",
    "else:\n",
    "     price=20   \n",
    "print(f\"Your admission cost is ${price}.\")"
   ]
  },
  {
   "cell_type": "code",
   "execution_count": 51,
   "metadata": {},
   "outputs": [
    {
     "name": "stdout",
     "output_type": "stream",
     "text": [
      "Your admission cost is $20.\n"
     ]
    }
   ],
   "source": [
    "# 省略else代码块\n",
    "age=66\n",
    "if age<4:\n",
    "    price=0\n",
    "elif age<18: \n",
    "    price=25\n",
    "elif age<65:\n",
    "    price=40\n",
    "elif age>=65: #最后一个else改成elif效果相同\n",
    "     price=20   \n",
    "print(f\"Your admission cost is ${price}.\")"
   ]
  },
  {
   "cell_type": "code",
   "execution_count": 53,
   "metadata": {},
   "outputs": [
    {
     "name": "stdout",
     "output_type": "stream",
     "text": [
      "Adding mushrooms.\n",
      "Adding extra cheese.\n",
      "Finished making your pizza!\n"
     ]
    }
   ],
   "source": [
    "# 测试多个条件\n",
    "requested_toppings=['mushrooms','extra cheese']\n",
    "if 'mushrooms' in requested_toppings:\n",
    "    print('Adding mushrooms.')\n",
    "if 'pepperoni' in requested_toppings:\n",
    "    print('Adding pepperoni.')\n",
    "if 'extra cheese' in requested_toppings:\n",
    "    print('Adding extra cheese.')\n",
    "    \n",
    "print(\"Finished making your pizza!\")"
   ]
  },
  {
   "cell_type": "markdown",
   "metadata": {},
   "source": [
    "## 5.4 使用 if 语句处理列表"
   ]
  },
  {
   "cell_type": "code",
   "execution_count": 58,
   "metadata": {},
   "outputs": [
    {
     "name": "stdout",
     "output_type": "stream",
     "text": [
      "Adding mushrooms.\n",
      "Sorry,we are out of green peppers right nows.\n",
      "Adding extra cheese.\n",
      "\n",
      "Finished making your pizza!\n"
     ]
    }
   ],
   "source": [
    "# 检查特殊元素\n",
    "requested_toppings=['mushrooms','green peppers','extra cheese']\n",
    "for requested_topping in requested_toppings:\n",
    "    if requested_topping=='green peppers':\n",
    "        print(\"Sorry,we are out of green peppers right now.\")# 告诉用户这个配料用完了\n",
    "    else:\n",
    "        print(f\"Adding {requested_topping}.\")\n",
    "print(\"\\nFinished making your pizza!\")"
   ]
  },
  {
   "cell_type": "code",
   "execution_count": 1,
   "metadata": {},
   "outputs": [
    {
     "name": "stdout",
     "output_type": "stream",
     "text": [
      "Are you sure you want a pizza?\n"
     ]
    }
   ],
   "source": [
    "# 确定列表不是空的\n",
    "requested_toppings=[]\n",
    "if requested_toppings:\n",
    "    for requested_topping in requested_toppings:\n",
    "        print(f\"Adding {requested_topping}.\")\n",
    "    print(\"\\nFinished making your pizza!\")\n",
    "else:\n",
    "    print(\"Are you sure you want a plain pizza?\")"
   ]
  },
  {
   "cell_type": "code",
   "execution_count": 6,
   "metadata": {},
   "outputs": [
    {
     "name": "stdout",
     "output_type": "stream",
     "text": [
      "Adding mushrooms.\n",
      "Sorry,we are out of green peppers right now.\n",
      "Adding extra cheese.\n",
      "\n",
      "Finished making your pizza!\n"
     ]
    }
   ],
   "source": [
    "#使用多个列表\n",
    "available_toppings=['mushrooms','olives','green peppers',\n",
    "                    'pepperoni','pineapple','extra cheese']\n",
    "requested_toppings=['mushrooms','french fries','extra cheese']\n",
    "\n",
    "for requested_topping in requested_toppings:\n",
    "    if requested_topping in available_toppings:\n",
    "        print(f\"Adding {requested_topping}.\")\n",
    "    else:\n",
    "        print(\"Sorry,we are out of green peppers right now.\")# 告诉用户这个配料用完了\n",
    "print(\"\\nFinished making your pizza!\")"
   ]
  },
  {
   "cell_type": "markdown",
   "metadata": {},
   "source": [
    "## 5.5 设置if语句格式"
   ]
  },
  {
   "cell_type": "code",
   "execution_count": 11,
   "metadata": {},
   "outputs": [],
   "source": [
    "age=10\n",
    "if age<4:#尽量不这么写\n",
    "    print(\"age<4\")\n",
    "if age < 4: #空格让代码更清晰易读\n",
    "    print(\"age<4\")"
   ]
  },
  {
   "cell_type": "code",
   "execution_count": null,
   "metadata": {},
   "outputs": [],
   "source": []
  },
  {
   "cell_type": "code",
   "execution_count": null,
   "metadata": {},
   "outputs": [],
   "source": []
  }
 ],
 "metadata": {
  "kernelspec": {
   "display_name": "Python 3",
   "language": "python",
   "name": "python3"
  },
  "language_info": {
   "codemirror_mode": {
    "name": "ipython",
    "version": 3
   },
   "file_extension": ".py",
   "mimetype": "text/x-python",
   "name": "python",
   "nbconvert_exporter": "python",
   "pygments_lexer": "ipython3",
   "version": "3.8.5"
  }
 },
 "nbformat": 4,
 "nbformat_minor": 4
}
