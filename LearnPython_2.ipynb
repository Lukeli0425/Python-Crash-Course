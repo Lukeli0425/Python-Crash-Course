{
 "cells": [
  {
   "cell_type": "markdown",
   "metadata": {},
   "source": [
    "### 2021.4.21 luke\n",
    "## Python Crash Course 3 列表简介\n",
    "### https://www.bilibili.com/video/BV19t411m7uU"
   ]
  },
  {
   "cell_type": "markdown",
   "metadata": {},
   "source": [
    "## 3.1 列表"
   ]
  },
  {
   "cell_type": "code",
   "execution_count": 1,
   "metadata": {},
   "outputs": [
    {
     "name": "stdout",
     "output_type": "stream",
     "text": [
      "['steph', 'klay', 'Draymond']\n"
     ]
    }
   ],
   "source": [
    "players = ['steph','klay','Draymond']\n",
    "print(players)"
   ]
  },
  {
   "cell_type": "code",
   "execution_count": 2,
   "metadata": {},
   "outputs": [
    {
     "name": "stdout",
     "output_type": "stream",
     "text": [
      "steph\n",
      "klay\n",
      "Draymond \n",
      "\n",
      "Steph \n",
      "\n",
      "Draymond\n",
      "klay\n",
      "steph\n"
     ]
    }
   ],
   "source": [
    "#访问列表元素\n",
    "print(players[0]) #索引编号从零开始\n",
    "print(players[1]) \n",
    "print(players[2],\"\\n\") \n",
    "\n",
    "print(players[0].title(),'\\n') #首字母大写 \n",
    "\n",
    "print(players[-1])  #索引可以指定负数，但不能超过元素数\n",
    "print(players[-2])  #-1返回倒数第一个元素，-2返回倒数第二个元素，以此类推\n",
    "print(players[-3])"
   ]
  },
  {
   "cell_type": "code",
   "execution_count": 3,
   "metadata": {},
   "outputs": [
    {
     "name": "stdout",
     "output_type": "stream",
     "text": [
      "My favorite player is Steph\n"
     ]
    }
   ],
   "source": [
    "#使用列表中的各个值，利用f字符串\n",
    "str1=\"My favorite player is\"\n",
    "message = f\"{str1} {players[0].title()}\"\n",
    "print(message)"
   ]
  },
  {
   "cell_type": "markdown",
   "metadata": {},
   "source": [
    "## 3.2 修改、添加和删除元素"
   ]
  },
  {
   "cell_type": "code",
   "execution_count": 4,
   "metadata": {},
   "outputs": [
    {
     "name": "stdout",
     "output_type": "stream",
     "text": [
      "Stephen\n"
     ]
    }
   ],
   "source": [
    "#修改元素\n",
    "players = ['steph','klay','draymond']\n",
    "players[0]=\"Stephen\"\n",
    "print(players[0])"
   ]
  },
  {
   "cell_type": "code",
   "execution_count": 5,
   "metadata": {},
   "outputs": [
    {
     "name": "stdout",
     "output_type": "stream",
     "text": [
      "['Stephen', 'klay', 'draymond', 'KD']\n",
      "['Golden State Warriors', 'Beijing Shougang', 'Beijing Riyal Fighters']\n"
     ]
    }
   ],
   "source": [
    "#插入元素\n",
    "#在列表末尾插入元素 append\n",
    "players.append(\"KD\")\n",
    "print(players)\n",
    "\n",
    "teams=[]\n",
    "teams.append(\"Golden State Warriors\")\n",
    "teams.append(\"Beijing Shougang\")\n",
    "teams.append(\"Beijing Riyal Fighters\")\n",
    "print(teams)"
   ]
  },
  {
   "cell_type": "code",
   "execution_count": 6,
   "metadata": {},
   "outputs": [
    {
     "name": "stdout",
     "output_type": "stream",
     "text": [
      "['Golden State Warriors', 'Beijing Shougang', 'Beijing Riyal Fighters']\n"
     ]
    }
   ],
   "source": [
    "#在列表中插入元素 insert \n",
    "#指定索引和要插入的值\n",
    "teams=[\"Golden State Warriors\",\"Beijing Riyal Fighters\"]\n",
    "teams.insert(1,\"Beijing Shougang\")\n",
    "print(teams)"
   ]
  },
  {
   "cell_type": "code",
   "execution_count": 7,
   "metadata": {},
   "outputs": [
    {
     "name": "stdout",
     "output_type": "stream",
     "text": [
      "['Stephen', 'klay', 'draymond']\n"
     ]
    }
   ],
   "source": [
    "#从列表中删除元素\n",
    "#del语句 要指定索引\n",
    "del players[3]\n",
    "print(players)"
   ]
  },
  {
   "cell_type": "code",
   "execution_count": 8,
   "metadata": {},
   "outputs": [
    {
     "name": "stdout",
     "output_type": "stream",
     "text": [
      "['Golden State Warriors', 'Beijing Riyal Fighters']\n",
      "Beijing Shougang\n",
      "['Beijing Riyal Fighters']\n",
      "Golden State Warriors\n"
     ]
    }
   ],
   "source": [
    "#pop删除 默认弹出最后一个元素，也可指定索引\n",
    "teams=[\"Golden State Warriors\",\"Beijing Riyal Fighters\",\"Beijing Shougang\"]\n",
    "popped_element=teams.pop()\n",
    "print(teams)\n",
    "print(popped_element)\n",
    "\n",
    "popped_element=teams.pop(0)\n",
    "print(teams)\n",
    "print(popped_element)"
   ]
  },
  {
   "cell_type": "code",
   "execution_count": 9,
   "metadata": {},
   "outputs": [
    {
     "name": "stdout",
     "output_type": "stream",
     "text": [
      "['steph', 'klay', 'draymond']\n"
     ]
    }
   ],
   "source": [
    "#根据值删除元素\n",
    "players = ['steph','klay','draymond','KD']\n",
    "players.remove(\"KD\")\n",
    "print(players)"
   ]
  },
  {
   "cell_type": "markdown",
   "metadata": {},
   "source": [
    "## 3.3 组织列表"
   ]
  },
  {
   "cell_type": "code",
   "execution_count": 10,
   "metadata": {},
   "outputs": [
    {
     "name": "stdout",
     "output_type": "stream",
     "text": [
      "['audi', 'bmw', 'toyota', 'volvo']\n",
      "['volvo', 'toyota', 'bmw', 'audi']\n"
     ]
    }
   ],
   "source": [
    "#使用sort()对列表永久排序\n",
    "cars=[\"bmw\",\"audi\",\"volvo\",\"toyota\"]\n",
    "cars.sort()\n",
    "print(cars)\n",
    "cars.sort(reverse=True) #字母相反顺序\n",
    "print(cars)"
   ]
  },
  {
   "cell_type": "code",
   "execution_count": 11,
   "metadata": {},
   "outputs": [
    {
     "name": "stdout",
     "output_type": "stream",
     "text": [
      "Here is a sorted list:\n",
      "['audi', 'bmw', 'toyota', 'volvo']\n",
      "['bmw', 'audi', 'volvo', 'toyota']\n"
     ]
    }
   ],
   "source": [
    "#使用sorted()对列表临时排序\n",
    "cars=[\"bmw\",\"audi\",\"volvo\",\"toyota\"]\n",
    "print('Here is a sorted list:')\n",
    "print(sorted(cars))\n",
    "print(cars)"
   ]
  },
  {
   "cell_type": "code",
   "execution_count": 12,
   "metadata": {},
   "outputs": [
    {
     "name": "stdout",
     "output_type": "stream",
     "text": [
      "['bmw', 'audi', 'volvo', 'toyota']\n",
      "['toyota', 'volvo', 'audi', 'bmw']\n",
      "['bmw', 'audi', 'volvo', 'toyota']\n"
     ]
    }
   ],
   "source": [
    "#倒着打印列表 reverse()永久修改(反转元素顺序，并非排序)\n",
    "print(cars)\n",
    "cars.reverse()\n",
    "print(cars)\n",
    "cars.reverse()\n",
    "print(cars)"
   ]
  },
  {
   "cell_type": "code",
   "execution_count": 13,
   "metadata": {},
   "outputs": [
    {
     "data": {
      "text/plain": [
       "4"
      ]
     },
     "execution_count": 13,
     "metadata": {},
     "output_type": "execute_result"
    }
   ],
   "source": [
    "#确定列表长度 len()\n",
    "len(cars) #注意是从1开始数！"
   ]
  },
  {
   "cell_type": "markdown",
   "metadata": {},
   "source": [
    "## 3.4 使用列表时避免错误"
   ]
  },
  {
   "cell_type": "code",
   "execution_count": 14,
   "metadata": {},
   "outputs": [
    {
     "name": "stdout",
     "output_type": "stream",
     "text": [
      "toyota\n"
     ]
    }
   ],
   "source": [
    "cars=[\"bmw\",\"audi\",\"volvo\",\"toyota\"]\n",
    "len(cars) #先检查列表长度\n",
    "print(cars[3]) #再访问恰当的索引"
   ]
  },
  {
   "cell_type": "code",
   "execution_count": null,
   "metadata": {},
   "outputs": [],
   "source": []
  }
 ],
 "metadata": {
  "kernelspec": {
   "display_name": "Python 3",
   "language": "python",
   "name": "python3"
  },
  "language_info": {
   "codemirror_mode": {
    "name": "ipython",
    "version": 3
   },
   "file_extension": ".py",
   "mimetype": "text/x-python",
   "name": "python",
   "nbconvert_exporter": "python",
   "pygments_lexer": "ipython3",
   "version": "3.8.5"
  }
 },
 "nbformat": 4,
 "nbformat_minor": 4
}
