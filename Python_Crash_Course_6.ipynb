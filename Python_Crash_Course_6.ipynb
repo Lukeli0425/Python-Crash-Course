{
 "cells": [
  {
   "cell_type": "markdown",
   "metadata": {},
   "source": [
    "## 2021.5.2 luke\n",
    "# Python Crash Course 6 if语句\n",
    "### https://www.bilibili.com/video/BV19t411m7uU"
   ]
  },
  {
   "cell_type": "markdown",
   "metadata": {},
   "source": [
    "## 6.1 一个简单的字典"
   ]
  },
  {
   "cell_type": "code",
   "execution_count": 3,
   "metadata": {},
   "outputs": [
    {
     "ename": "SyntaxError",
     "evalue": "invalid syntax (<ipython-input-3-796cf21d3189>, line 1)",
     "output_type": "error",
     "traceback": [
      "\u001b[0;36m  File \u001b[0;32m\"<ipython-input-3-796cf21d3189>\"\u001b[0;36m, line \u001b[0;32m1\u001b[0m\n\u001b[0;31m    alien_0={'color:'green','points':5}\u001b[0m\n\u001b[0m                     ^\u001b[0m\n\u001b[0;31mSyntaxError\u001b[0m\u001b[0;31m:\u001b[0m invalid syntax\n"
     ]
    }
   ],
   "source": [
    "alien_0={'color':'green','points':5}\n",
    "print(alien_0['color'])\n",
    "print(alien_0['points'])"
   ]
  },
  {
   "cell_type": "markdown",
   "metadata": {},
   "source": [
    "## 6.2 使用字典"
   ]
  },
  {
   "cell_type": "code",
   "execution_count": 6,
   "metadata": {},
   "outputs": [
    {
     "name": "stdout",
     "output_type": "stream",
     "text": [
      "green\n"
     ]
    }
   ],
   "source": [
    "#访问字典中的值\n",
    "alien_0={'color':'green','points':5}\n",
    "print(alien_0['color'])#想要获取值（green），需要指定字典名（alien_0）+键（color）"
   ]
  },
  {
   "cell_type": "code",
   "execution_count": 7,
   "metadata": {},
   "outputs": [
    {
     "name": "stdout",
     "output_type": "stream",
     "text": [
      "You just earned 5 points!\n"
     ]
    }
   ],
   "source": [
    "new_points=alien_0['points']\n",
    "print(f\"You just earned {new_points} points!\")"
   ]
  },
  {
   "cell_type": "code",
   "execution_count": 11,
   "metadata": {},
   "outputs": [
    {
     "name": "stdout",
     "output_type": "stream",
     "text": [
      "{'color': 'green', 'points': 5}\n",
      "{'color': 'green', 'points': 5, 'x_position': 0, 'y_position': 0}\n"
     ]
    }
   ],
   "source": [
    "#添加键值对\n",
    "#字典是一种动态结构，可随时在其中添加键值对。\n",
    "#想要添加键值对，可依次指定字典名、用方括号括起来的键和相关联的值。\n",
    "alien_0={'color':'green','points':5}\n",
    "print(alien_0)\n",
    "#新增外星人的x、y坐标\n",
    "alien_0['x_position']=0\n",
    "alien_0['y_position']=0\n",
    "print(alien_0) #Python3.7中，元素的顺序和添加顺序相同"
   ]
  },
  {
   "cell_type": "code",
   "execution_count": 12,
   "metadata": {},
   "outputs": [
    {
     "name": "stdout",
     "output_type": "stream",
     "text": [
      "{}\n",
      "{'color': 'green', 'points': 5}\n"
     ]
    }
   ],
   "source": [
    "#创建一个空字典\n",
    "alien_0={}\n",
    "print(alien_0)\n",
    "alien_0['color']='green'\n",
    "alien_0['points']=5\n",
    "print(alien_0)"
   ]
  },
  {
   "cell_type": "code",
   "execution_count": 16,
   "metadata": {},
   "outputs": [
    {
     "name": "stdout",
     "output_type": "stream",
     "text": [
      "The alien is green.\n",
      "The alien is yellow now.\n"
     ]
    }
   ],
   "source": [
    "#修改字典中的值\n",
    "alien_0={'color':'green','points':5}\n",
    "print(f\"The alien is {alien_0['color']}.\")\n",
    "alien_0['color']='yellow' #直接修改，就像添加一样\n",
    "print(f\"The alien is {alien_0['color']} now.\")"
   ]
  },
  {
   "cell_type": "code",
   "execution_count": 21,
   "metadata": {},
   "outputs": [
    {
     "name": "stdout",
     "output_type": "stream",
     "text": [
      "Origininal x_position:0\n",
      "New x_position:2\n"
     ]
    }
   ],
   "source": [
    "alien_0={'x_position':0,\n",
    "         'y_position':25,\n",
    "         'speed':'medium'}\n",
    "print(f\"Origininal x_position:{alien_0['x_position']}\")\n",
    "#根据外星人速度确定将外星人移动往右移动的距离\n",
    "if alien_0['speed']=='slow':\n",
    "    x_increment=1\n",
    "elif alien_0['speed']=='medium':\n",
    "    x_increment=2\n",
    "else:\n",
    "    x_increment=3\n",
    "    \n",
    "#新的位置=x_position+x_increment\n",
    "alien_0['x_position'] += x_increment\n",
    "print(f\"New x_position:{alien_0['x_position']}\")"
   ]
  },
  {
   "cell_type": "code",
   "execution_count": 23,
   "metadata": {},
   "outputs": [
    {
     "name": "stdout",
     "output_type": "stream",
     "text": [
      "{'color': 'green', 'points': 5}\n",
      "{'color': 'green'}\n"
     ]
    }
   ],
   "source": [
    "#删除键值对 del+字典名+要删除的键\n",
    "alien_0={'color':'green','points':5}\n",
    "print(alien_0)\n",
    "del alien_0['points']\n",
    "print(alien_0)"
   ]
  },
  {
   "cell_type": "code",
   "execution_count": 27,
   "metadata": {},
   "outputs": [
    {
     "name": "stdout",
     "output_type": "stream",
     "text": [
      "Sarah's favorite language is C.\n"
     ]
    }
   ],
   "source": [
    "#由类似对象组成的字典\n",
    "favorite_languages={\n",
    "    'jen':\"python\",\n",
    "    'sarah':'c',\n",
    "    'edward':'ruby',\n",
    "    'phil':'python'\n",
    "}\n",
    "\n",
    "language=favorite_languages['sarah'].title()\n",
    "print(f\"Sarah's favorite language is {language}.\")"
   ]
  },
  {
   "cell_type": "code",
   "execution_count": 33,
   "metadata": {},
   "outputs": [
    {
     "name": "stdout",
     "output_type": "stream",
     "text": [
      "None\n",
      "No points value assigned.\n"
     ]
    }
   ],
   "source": [
    "#使用get()来访问值\n",
    "alien_0={'color':'green','speed':'medium'}\n",
    "#直接用字典名+键名，如果键名不存在会报错\n",
    "#get(访问的键名+键不存在时的返回值)\n",
    "point_value=alien_0.get('points') #不指定键不存在时的返回值则返回None\n",
    "print(point_value)\n",
    "point_value=alien_0.get('points','No points value assigned.') \n",
    "print(point_value)"
   ]
  },
  {
   "cell_type": "markdown",
   "metadata": {},
   "source": [
    "## 6.3 遍历字典"
   ]
  },
  {
   "cell_type": "code",
   "execution_count": 5,
   "metadata": {},
   "outputs": [
    {
     "name": "stdout",
     "output_type": "stream",
     "text": [
      "\n",
      "Key:username\n",
      "Value:efermi\n",
      "\n",
      "Key:first\n",
      "Value:enrico\n",
      "\n",
      "Key:last\n",
      "Value:fermi\n"
     ]
    }
   ],
   "source": [
    "# 遍历所有键值对\n",
    "user_0={\n",
    "    'username':'efermi',\n",
    "    'first':'enrico',\n",
    "    'last':'fermi'\n",
    "}\n",
    "\n",
    "for a,b in user_0.items(): #items()返回键值对列表\n",
    "    print(f\"\\nKey:{a}\")\n",
    "    print(f\"Value:{b}\")"
   ]
  },
  {
   "cell_type": "code",
   "execution_count": 24,
   "metadata": {},
   "outputs": [
    {
     "name": "stdout",
     "output_type": "stream",
     "text": [
      "Jen's favorite language is Python.\n",
      "Sarah's favorite language is C.\n",
      "Edward's favorite language is Ruby.\n",
      "Phil's favorite language is Python.\n",
      "\n",
      "dict_items([('jen', 'python'), ('sarah', 'c'), ('edward', 'ruby'), ('phil', 'python')])\n"
     ]
    }
   ],
   "source": [
    "favorite_languages={\n",
    "    'jen':\"python\",\n",
    "    'sarah':'c',\n",
    "    'edward':'ruby',\n",
    "    'phil':'python'\n",
    "}\n",
    "\n",
    "for name,language in favorite_languages.items(): \n",
    "    print(f\"{name.title()}'s favorite language is {language.title()}.\")\n",
    "\n",
    "#items()返回键值对列表\n",
    "print(f\"\\n{favorite_languages.items()}\")"
   ]
  },
  {
   "cell_type": "code",
   "execution_count": 25,
   "metadata": {},
   "outputs": [
    {
     "name": "stdout",
     "output_type": "stream",
     "text": [
      "Jen\n",
      "Sarah\n",
      "Edward\n",
      "Phil\n",
      "\n",
      "dict_keys(['jen', 'sarah', 'edward', 'phil'])\n"
     ]
    }
   ],
   "source": [
    "## 遍历字典中的所有键\n",
    "favorite_languages={\n",
    "    'jen':\"python\",\n",
    "    'sarah':'c',\n",
    "    'edward':'ruby',\n",
    "    'phil':'python'\n",
    "}\n",
    "#keys()方法\n",
    "for name in favorite_languages.keys(): \n",
    "    print(name.title())\n",
    "    \n",
    "#keys()返回字典中的所有键组成的列表\n",
    "print(f\"\\n{favorite_languages.keys()}\")"
   ]
  },
  {
   "cell_type": "code",
   "execution_count": 17,
   "metadata": {},
   "outputs": [
    {
     "name": "stdout",
     "output_type": "stream",
     "text": [
      "Hi,Jen.\n",
      "Hi,Sarah.\n",
      "\tSarah,I see you love C!\n",
      "Hi,Edward.\n",
      "Hi,Phil.\n",
      "\tPhil,I see you love Python!\n"
     ]
    }
   ],
   "source": [
    "favorite_languages={\n",
    "    'jen':\"python\",\n",
    "    'sarah':'c',\n",
    "    'edward':'ruby',\n",
    "    'phil':'python'\n",
    "}\n",
    "friends=['phil','sarah']\n",
    "\n",
    "for name in favorite_languages.keys():\n",
    "    print(f\"Hi,{name.title()}.\")\n",
    "    if name in friends:\n",
    "        print(f\"\\t{name.title()},I see you love {favorite_languages[name].title()}!\")"
   ]
  },
  {
   "cell_type": "code",
   "execution_count": 28,
   "metadata": {},
   "outputs": [
    {
     "name": "stdout",
     "output_type": "stream",
     "text": [
      "Erin,please take our poll!\n"
     ]
    }
   ],
   "source": [
    "favorite_languages={\n",
    "    'jen':\"python\",\n",
    "    'sarah':'c',\n",
    "    'edward':'ruby',\n",
    "    'phil':'python'\n",
    "}\n",
    "\n",
    "if \"erin\" not in favorite_languages:\n",
    "    print(f\"Erin,please take our poll!\")"
   ]
  },
  {
   "cell_type": "code",
   "execution_count": 35,
   "metadata": {},
   "outputs": [
    {
     "name": "stdout",
     "output_type": "stream",
     "text": [
      "Edward,thank you for taking the poll.\n",
      "Jen,thank you for taking the poll.\n",
      "Phil,thank you for taking the poll.\n",
      "Sarah,thank you for taking the poll.\n"
     ]
    }
   ],
   "source": [
    "#按特定顺序遍历字典中的所有键\n",
    "favorite_languages={\n",
    "    'jen':\"python\",\n",
    "    'sarah':'c',\n",
    "    'edward':'ruby',\n",
    "    'phil':'python'\n",
    "}\n",
    "\n",
    "#sorted()临时排序列表中的元素，不改变列表中初始的元素排列顺序\n",
    "for name in sorted(favorite_languages.keys()):\n",
    "    print(f\"{name.title()},thank you for taking the poll.\")"
   ]
  },
  {
   "cell_type": "code",
   "execution_count": 37,
   "metadata": {},
   "outputs": [
    {
     "name": "stdout",
     "output_type": "stream",
     "text": [
      "The following languages have been mentioned:\n",
      "Python\n",
      "C\n",
      "Ruby\n",
      "Python\n"
     ]
    }
   ],
   "source": [
    "#遍历字典中的所有值\n",
    "# values()方法\n",
    "favorite_languages={\n",
    "    'jen':\"python\",\n",
    "    'sarah':'c',\n",
    "    'edward':'ruby',\n",
    "    'phil':'python'\n",
    "}\n",
    "\n",
    "print(\"The following languages have been mentioned:\")\n",
    "for language in favorite_languages.values():\n",
    "    print(language.title())"
   ]
  },
  {
   "cell_type": "code",
   "execution_count": 40,
   "metadata": {},
   "outputs": [
    {
     "name": "stdout",
     "output_type": "stream",
     "text": [
      "The following languages have been mentioned:\n",
      "Ruby\n",
      "Python\n",
      "C\n",
      "\n",
      "\n",
      "{'ruby', 'python', 'c'}\n"
     ]
    }
   ],
   "source": [
    "#上面打印店结果中python重复了，因此使用set()\n",
    "print(\"The following languages have been mentioned:\")\n",
    "for language in set(favorite_languages.values()):\n",
    "    print(language.title())\n",
    "#set()返回一个列表，它包含原始列表中所有独一无二的元素（如果有重复只保留一个）\n",
    "print(\"\\n\")\n",
    "print(set(favorite_languages.values()))"
   ]
  },
  {
   "cell_type": "markdown",
   "metadata": {},
   "source": [
    "## 6.4 嵌套"
   ]
  },
  {
   "cell_type": "code",
   "execution_count": 43,
   "metadata": {},
   "outputs": [
    {
     "name": "stdout",
     "output_type": "stream",
     "text": [
      "{'color': 'green', 'points': 5}\n",
      "{'color': 'yellow', 'points': 10}\n",
      "{'color': 'red', 'points': 15}\n"
     ]
    }
   ],
   "source": [
    "#字典列表\n",
    "alien_0={'color':'green','points':5}\n",
    "alien_1={'color':'yellow','points':10}\n",
    "alien_2={'color':'red','points':15}\n",
    "\n",
    "aliens=[alien_0,alien_1,alien_2]\n",
    "for alien in aliens:\n",
    "    print(alien)"
   ]
  },
  {
   "cell_type": "code",
   "execution_count": 52,
   "metadata": {},
   "outputs": [
    {
     "name": "stdout",
     "output_type": "stream",
     "text": [
      "{'color': 'green', 'points': 5, 'speed': 'low'}\n",
      "{'color': 'green', 'points': 5, 'speed': 'low'}\n",
      "{'color': 'green', 'points': 5, 'speed': 'low'}\n",
      "{'color': 'green', 'points': 5, 'speed': 'low'}\n",
      "{'color': 'green', 'points': 5, 'speed': 'low'}\n",
      "...\n",
      "Total number of aliens:30\n"
     ]
    }
   ],
   "source": [
    "#创建空列表\n",
    "aliens=[]\n",
    "#创建30个绿色外星人\n",
    "for alien_number in range(30):\n",
    "    new_alien={'color':'green','points':5,'speed':'low'}\n",
    "    aliens.append(new_alien)#插入列表末尾\n",
    "#显示前5个外星人\n",
    "for alien in aliens[:5]:\n",
    "    print(alien)\n",
    "print(\"...\")\n",
    "#显示外星人总数\n",
    "print(f\"Total number of aliens:{len(aliens)}\")"
   ]
  },
  {
   "cell_type": "code",
   "execution_count": 54,
   "metadata": {},
   "outputs": [
    {
     "name": "stdout",
     "output_type": "stream",
     "text": [
      "{'color': 'yellow', 'points': 10, 'speed': 'medium'}\n",
      "{'color': 'yellow', 'points': 10, 'speed': 'medium'}\n",
      "{'color': 'yellow', 'points': 10, 'speed': 'medium'}\n",
      "{'color': 'green', 'points': 5, 'speed': 'low'}\n",
      "{'color': 'green', 'points': 5, 'speed': 'low'}\n",
      "...\n",
      "Total number of aliens:30\n"
     ]
    }
   ],
   "source": [
    "#创建空列表\n",
    "aliens=[]\n",
    "#创建30个绿色外星人\n",
    "for alien_number in range(30):\n",
    "    new_alien={'color':'green','points':5,'speed':'low'}\n",
    "    aliens.append(new_alien)#插入列表末尾\n",
    "#修改前三个外星人\n",
    "for alien_number in range(3):\n",
    "    aliens[alien_number]['color']='yellow'\n",
    "    aliens[alien_number]['points']=10\n",
    "    aliens[alien_number]['speed']='medium'\n",
    "#显示前5个外星人\n",
    "for alien in aliens[:5]:\n",
    "    print(alien)\n",
    "print(\"...\")\n",
    "#显示外星人总数\n",
    "print(f\"Total number of aliens:{len(aliens)}\")"
   ]
  },
  {
   "cell_type": "code",
   "execution_count": 57,
   "metadata": {},
   "outputs": [
    {
     "name": "stdout",
     "output_type": "stream",
     "text": [
      "{'color': 'yellow', 'points': 10, 'speed': 'medium'}\n",
      "{'color': 'yellow', 'points': 10, 'speed': 'medium'}\n",
      "{'color': 'yellow', 'points': 10, 'speed': 'medium'}\n",
      "{'color': 'green', 'points': 5, 'speed': 'low'}\n",
      "{'color': 'green', 'points': 5, 'speed': 'low'}\n",
      "...\n",
      "Total number of aliens:30\n"
     ]
    }
   ],
   "source": [
    "#创建空列表\n",
    "aliens=[]\n",
    "#创建30个绿色外星人\n",
    "for alien_number in range(30):\n",
    "    new_alien={'color':'green','points':5,'speed':'low'}\n",
    "    aliens.append(new_alien)#插入列表末尾\n",
    "#修改前三个外星人\n",
    "for alien in aliens[:3]:\n",
    "    if alien['color']=='green':\n",
    "        alien['color']='yellow'\n",
    "        alien['points']=10\n",
    "        alien['speed']='medium'\n",
    "    elif alien['color']=='yellow':\n",
    "        alien['color']='red'\n",
    "        alien['points']=15\n",
    "        alien['speed']='fast'\n",
    "#显示前5个外星人\n",
    "for alien in aliens[:5]:\n",
    "    print(alien)\n",
    "print(\"...\")\n",
    "#显示外星人总数\n",
    "print(f\"Total number of aliens:{len(aliens)}\")"
   ]
  },
  {
   "cell_type": "code",
   "execution_count": 5,
   "metadata": {},
   "outputs": [
    {
     "name": "stdout",
     "output_type": "stream",
     "text": [
      "You ordered a thick-crust pizza with the following toppings:\n",
      "\tmushroom\n",
      "\textra cheese\n"
     ]
    }
   ],
   "source": [
    "## 在字典中存储列表\n",
    "pizza={\n",
    "    'crust':\"thick\", \n",
    "    'toppings':[\"mushroom\",\"extra cheese\"]\n",
    "}\n",
    "\n",
    "print(f\"You ordered a {pizza['crust']}-crust pizza with the following toppings:\")\n",
    "\n",
    "for topping in pizza['toppings']:\n",
    "    print(\"\\t\"+topping)"
   ]
  },
  {
   "cell_type": "code",
   "execution_count": 12,
   "metadata": {},
   "outputs": [
    {
     "name": "stdout",
     "output_type": "stream",
     "text": [
      "\n",
      "Jen's favorite languages are:\n",
      "\tPython\n",
      "\tRuby\n",
      "\n",
      "Sarah's favorite languages are:\n",
      "\tC\n",
      "\n",
      "Edward's favorite languages are:\n",
      "\tRuby\n",
      "\tGo\n",
      "\n",
      "Phil's favorite languages are:\n",
      "\tPython\n",
      "\tHaskell\n"
     ]
    }
   ],
   "source": [
    "favorite_languages={\n",
    "    'jen':[\"python\",'ruby'],\n",
    "    'sarah':['c'],\n",
    "    'edward':['ruby','go'],\n",
    "    'phil':['python','haskell']\n",
    "}\n",
    "\n",
    "for name,languages in favorite_languages.items():\n",
    "    print(f\"\\n{name.title()}'s favorite languages are:\")\n",
    "    for language in languages:\n",
    "        print(\"\\t\"+language.title())"
   ]
  },
  {
   "cell_type": "code",
   "execution_count": 22,
   "metadata": {},
   "outputs": [
    {
     "name": "stdout",
     "output_type": "stream",
     "text": [
      "Username:scurry\n",
      "\tFull name:Stephen Curry\n",
      "\tLocation:Oakland\n",
      "Username:smarbury\n",
      "\tFull name:Stephon Marbury\n",
      "\tLocation:Beijing\n"
     ]
    }
   ],
   "source": [
    "players={\n",
    "    'scurry':{\n",
    "        'first':'stephen',\n",
    "        'last':'curry',\n",
    "        'location':'oakland'\n",
    "    },\n",
    "    \n",
    "    'smarbury':{\n",
    "        'first':'stephon',\n",
    "        'last':'marbury',\n",
    "        'location':'beijing'\n",
    "    }\n",
    "}\n",
    "\n",
    "for player,player_info in players.items():\n",
    "    print(f\"Username:{player}\")\n",
    "    print(f\"\\tFull name:{player_info['first'].title()} {player_info['last'].title()}\")\n",
    "    print(f\"\\tLocation:{player_info['location'].title()}\")"
   ]
  }
 ],
 "metadata": {
  "kernelspec": {
   "display_name": "Python 3",
   "language": "python",
   "name": "python3"
  },
  "language_info": {
   "codemirror_mode": {
    "name": "ipython",
    "version": 3
   },
   "file_extension": ".py",
   "mimetype": "text/x-python",
   "name": "python",
   "nbconvert_exporter": "python",
   "pygments_lexer": "ipython3",
   "version": "3.8.5"
  }
 },
 "nbformat": 4,
 "nbformat_minor": 4
}
